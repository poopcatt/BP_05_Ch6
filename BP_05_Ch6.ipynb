{
  "nbformat": 4,
  "nbformat_minor": 0,
  "metadata": {
    "colab": {
      "provenance": [],
      "authorship_tag": "ABX9TyPRo8nZR49CAwxMsp8jC283",
      "include_colab_link": true
    },
    "kernelspec": {
      "name": "python3",
      "display_name": "Python 3"
    },
    "language_info": {
      "name": "python"
    }
  },
  "cells": [
    {
      "cell_type": "markdown",
      "metadata": {
        "id": "view-in-github",
        "colab_type": "text"
      },
      "source": [
        "<a href=\"https://colab.research.google.com/github/poopcatt/BP_05_Ch6/blob/main/BP_05_Ch6.ipynb\" target=\"_parent\"><img src=\"https://colab.research.google.com/assets/colab-badge.svg\" alt=\"Open In Colab\"/></a>"
      ]
    },
    {
      "cell_type": "markdown",
      "source": [
        "1. 2부터 100 사이의 모든 짝수를 출력하는 반복 루프를 작성한다."
      ],
      "metadata": {
        "id": "TANLWNOd0E-9"
      }
    },
    {
      "cell_type": "code",
      "source": [
        "for i in range(2,101,2):\n",
        "    print(i, end=\" \")"
      ],
      "metadata": {
        "colab": {
          "base_uri": "https://localhost:8080/"
        },
        "id": "JD-Qe5F02TVE",
        "outputId": "266d225b-7596-4e15-ca2c-b923d60b7578"
      },
      "execution_count": null,
      "outputs": [
        {
          "output_type": "stream",
          "name": "stdout",
          "text": [
            "2 4 6 8 10 12 14 16 18 20 22 24 26 28 30 32 34 36 38 40 42 44 46 48 50 52 54 56 58 60 62 64 66 68 70 72 74 76 78 80 82 84 86 88 90 92 94 96 98 100 "
          ]
        }
      ]
    },
    {
      "cell_type": "markdown",
      "source": [
        "2. 어떤 사람이 복리이자율 7%로 1000만원을 저금했을 경우에 2000만원이 되는데 몇 년이 걸리는지 계산하기 위해서 다음과 같은 코드를 작성하였다. 잘못된 점은 없는지 체크해 보자.\n",
        "(While balance >= 2000: 을 While balance <= 2000: 으로 바꿔야 한다.)"
      ],
      "metadata": {
        "id": "Nl4RmW7Q2Wsk"
      }
    },
    {
      "cell_type": "code",
      "source": [
        "year = 0\n",
        "balance = 1000\n",
        " \n",
        "while balance <= 2000 :\n",
        "    year = year + 1\n",
        "    interest = balance * 0.07\n",
        "    balance = balance + interest\n",
        "print(year, \"년 걸립니다.\")"
      ],
      "metadata": {
        "colab": {
          "base_uri": "https://localhost:8080/"
        },
        "id": "vIwE-lK43nSh",
        "outputId": "2bb69faa-a2b6-4aea-8e22-0d23c3a157ca"
      },
      "execution_count": null,
      "outputs": [
        {
          "output_type": "stream",
          "name": "stdout",
          "text": [
            "11 년 걸립니다.\n"
          ]
        }
      ]
    },
    {
      "cell_type": "markdown",
      "source": [
        "3. 다음 코드의 출력을 예상해보자. 각 단계에서 변수의 값을 예상해보시오."
      ],
      "metadata": {
        "id": "ZzAS8qjb5ug5"
      }
    },
    {
      "cell_type": "code",
      "source": [
        "n = 1234\n",
        "sum = 0\n",
        "while n > 0:\n",
        "    digit = n %10\n",
        "    sum = sum + digit\n",
        "    n = n // 10\n",
        "print(sum)"
      ],
      "metadata": {
        "colab": {
          "base_uri": "https://localhost:8080/"
        },
        "id": "EH9qqj-xHlzQ",
        "outputId": "a3151c22-64ff-48e4-d814-6680f1f8cd8d"
      },
      "execution_count": 1,
      "outputs": [
        {
          "output_type": "stream",
          "name": "stdout",
          "text": [
            "10\n"
          ]
        }
      ]
    },
    {
      "cell_type": "markdown",
      "source": [
        "4. 사용자에게 곱셈 퀴즈를 내고 답을 사용자로부터 받는 프로그램에서 사용자가 올바른 답을 입력할 때까지 반복하도록 수정하여 보자."
      ],
      "metadata": {
        "id": "Uhxz-WY9IBQQ"
      }
    },
    {
      "cell_type": "code",
      "source": [
        "import random as rd\n",
        " \n",
        "while(True):\n",
        "    x = rd.randint(1, 10)\n",
        "    y = rd.randint(1, 10)\n",
        "    cal = int(input(str(x)+\"*\"+str(y)+\"는 \"))\n",
        "    if(cal == (x*y)):\n",
        "        print(\"맞았습니다\", end=\" \")\n",
        "        break;"
      ],
      "metadata": {
        "id": "OiQYOGzOILXl",
        "outputId": "8bd9da83-f917-4443-d773-e716968bf3c9",
        "colab": {
          "base_uri": "https://localhost:8080/"
        }
      },
      "execution_count": 2,
      "outputs": [
        {
          "output_type": "stream",
          "name": "stdout",
          "text": [
            "6*7는 1\n",
            "7*2는 1\n",
            "7*10는 70\n",
            "맞았습니다 "
          ]
        }
      ]
    },
    {
      "cell_type": "markdown",
      "source": [
        "5. 사용자가 입력한 정수의 합을 계산하는 프로그램을 작성하자. 사용자가 0을 입력하기 전까지 정수를 계속하여 읽도록 한다."
      ],
      "metadata": {
        "id": "0hvrs-cDIUpR"
      }
    },
    {
      "cell_type": "code",
      "source": [
        "sum =0\n",
        "while(True):\n",
        "    cal = int(input(\"정수를 입력하시오 : \"))\n",
        "    if(cal==0):\n",
        "        break;\n",
        "    sum += cal\n",
        "print(\"합은\", sum ,\"입니다.\")"
      ],
      "metadata": {
        "id": "dY02RbvRIUDQ",
        "outputId": "6555ee19-22df-418c-a280-01bc0b1c80e5",
        "colab": {
          "base_uri": "https://localhost:8080/"
        }
      },
      "execution_count": 3,
      "outputs": [
        {
          "output_type": "stream",
          "name": "stdout",
          "text": [
            "정수를 입력하시오 : 1\n",
            "정수를 입력하시오 : 2\n",
            "정수를 입력하시오 : 3\n",
            "정수를 입력하시오 : 0\n",
            "합은 6 입니다.\n"
          ]
        }
      ]
    },
    {
      "cell_type": "markdown",
      "source": [
        "6. 난수 생성 함수를 사용하여서 2개의 주사위를 던졌을 때 나오는 수를 다음과 같이 출력하여 보자."
      ],
      "metadata": {
        "id": "xM5VrtCjId-W"
      }
    },
    {
      "cell_type": "code",
      "source": [
        "import random as rd\n",
        " \n",
        "for i in range(3):\n",
        "    x = rd.randint(1, 6)\n",
        "    y = rd.randint(1, 6)\n",
        "    print(\"첫번째 주사위=\",x ,\"두번째 주사위=\",y)"
      ],
      "metadata": {
        "id": "Rs7ED8gZIrA-",
        "outputId": "e88fa3b8-3109-4028-8b45-d9910e317619",
        "colab": {
          "base_uri": "https://localhost:8080/"
        }
      },
      "execution_count": 4,
      "outputs": [
        {
          "output_type": "stream",
          "name": "stdout",
          "text": [
            "첫번째 주사위= 4 두번째 주사위= 2\n",
            "첫번째 주사위= 2 두번째 주사위= 6\n",
            "첫번째 주사위= 2 두번째 주사위= 5\n"
          ]
        }
      ]
    }
  ]
}